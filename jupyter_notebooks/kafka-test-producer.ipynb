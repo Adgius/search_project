{
 "cells": [
  {
   "cell_type": "code",
   "execution_count": 70,
   "id": "a28b4e93-7b54-4622-8c6f-9d58008c01f4",
   "metadata": {},
   "outputs": [],
   "source": [
    "from elasticsearch import Elasticsearch\n",
    "from elasticsearch.helpers import bulk\n",
    "\n",
    "es = Elasticsearch([\"http://localhost:9200\"])\n",
    "\n",
    "\n",
    "index_name = \"question_base\"\n",
    "\n",
    "mapping = {\n",
    "    \"mappings\": {\n",
    "        \"properties\": {\n",
    "            \"question\": {\n",
    "                \"type\": \"text\",\n",
    "                \"analyzer\": \"standard\", \n",
    "                \"search_analyzer\": \"english\" \n",
    "            },\n",
    "            \"index\": {\n",
    "                \"type\": \"keyword\"\n",
    "            }\n",
    "        }\n",
    "    }\n",
    "}\n",
    "\n",
    "if not es.indices.exists(index=index_name):\n",
    "    es.indices.create(index=index_name, body=mapping)"
   ]
  },
  {
   "cell_type": "code",
   "execution_count": 72,
   "id": "e154345a-8477-4b6d-b0e6-2634bf595471",
   "metadata": {},
   "outputs": [
    {
     "name": "stderr",
     "output_type": "stream",
     "text": [
      "C:\\Users\\maxim\\AppData\\Local\\Temp\\ipykernel_14788\\95055320.py:29: DataOrientationWarning: Row orientation inferred during DataFrame construction. Explicitly specify the orientation by passing `orient=\"row\"` to silence this warning.\n",
      "  data = pl.DataFrame(data=data, schema=schema)\n"
     ]
    }
   ],
   "source": [
    "import io\n",
    "import requests\n",
    "import polars as pl\n",
    "import numpy as np\n",
    "\n",
    "from zipfile import ZipFile\n",
    "\n",
    "\n",
    "resp = requests.get(\"https://dl.fbaipublicfiles.com/glue/data/QQP-clean.zip\")\n",
    "\n",
    "arch = ZipFile(io.BytesIO(resp.content))\n",
    "\n",
    "schema = {'id': pl.Int64, \n",
    "          'id_left': pl.Int64, \n",
    "          'id_right': pl.Int64, \n",
    "          'text_left': pl.String, \n",
    "          'text_right': pl.String, \n",
    "          'label': pl.Int8}\n",
    "\n",
    "def read_tsv(path, schema):\n",
    "    data = []\n",
    "    first = True\n",
    "    with arch.open(path) as zp:\n",
    "        for line in zp.readlines():\n",
    "            if first:\n",
    "                first = False\n",
    "            else:\n",
    "                data.append(line.decode('utf-8').strip().split(\"\\t\"))\n",
    "        data = pl.DataFrame(data=data, schema=schema)\n",
    "    return data\n",
    "\n",
    "train = read_tsv('QQP/train.tsv', schema)\n",
    "test = read_tsv('QQP/dev.tsv', schema)\n",
    "\n",
    "idx_df = pl.concat([test.unique('id_left').select(pl.col('id_left'), pl.col('text_left')).rename({'id_left': 'idx', 'text_left': 'text'}),\n",
    "                    test.unique('id_right').select(pl.col('id_right'), pl.col('text_right')).rename({'id_right': 'idx', 'text_right': 'text'}),\n",
    "                    train.unique('id_left').select(pl.col('id_left'), pl.col('text_left')).rename({'id_left': 'idx', 'text_left': 'text'}),\n",
    "                    train.unique('id_right').select(pl.col('id_right'), pl.col('text_right')).rename({'id_right': 'idx', 'text_right': 'text'})\n",
    "          ]).unique()"
   ]
  },
  {
   "cell_type": "code",
   "execution_count": 82,
   "id": "88b131c1-6369-4ef9-9203-67808fc1f064",
   "metadata": {},
   "outputs": [],
   "source": [
    "from kafka import KafkaProducer\n",
    "from tqdm import tqdm\n",
    "\n",
    "import json\n",
    "import uuid"
   ]
  },
  {
   "cell_type": "code",
   "execution_count": 74,
   "id": "21da9edd-c22a-4da2-9d91-6807f801dfaa",
   "metadata": {},
   "outputs": [],
   "source": [
    "config = {\n",
    "    'bootstrap_servers': 'localhost:9092',\n",
    "    'client_id': 'search_terms_client',\n",
    "    'value_serializer': lambda obj: json.dumps(obj).encode('utf-8'),\n",
    "}"
   ]
  },
  {
   "cell_type": "code",
   "execution_count": 79,
   "id": "f78c511e-c33c-459e-9bd7-cf2f471e34ce",
   "metadata": {},
   "outputs": [],
   "source": [
    "producer = KafkaProducer(**config)"
   ]
  },
  {
   "cell_type": "code",
   "execution_count": 101,
   "id": "294681f3-449a-48da-b743-940dfc188395",
   "metadata": {},
   "outputs": [
    {
     "name": "stderr",
     "output_type": "stream",
     "text": [
      "537916it [00:25, 20719.59it/s]\n"
     ]
    }
   ],
   "source": [
    "for idx, query in tqdm(idx_df.iter_rows()):\n",
    "    producer.send(topic=index_name,\n",
    "                  value={'index': str(idx),\n",
    "                         'question': query}\n",
    "                 )"
   ]
  },
  {
   "cell_type": "code",
   "execution_count": 106,
   "id": "01176b43-a106-4915-a3a4-c4f5d8e22fd1",
   "metadata": {},
   "outputs": [],
   "source": [
    "class CandidateModel:\n",
    "    def __init__(self, es):\n",
    "        self.es = es\n",
    "\n",
    "    def create_index(self, index_name):\n",
    "        self.index_name = index_name\n",
    "        if not self.es.indices.exists(index=index_name):\n",
    "            es.indices.create(index=index_name, body=mapping)\n",
    "        return index_name\n",
    "\n",
    "    def _fuzzy_search(self, q, size):\n",
    "        body = {\n",
    "            \"size\": size,\n",
    "            \"query\": {\n",
    "                \"match\": {\n",
    "                    \"question\": {\n",
    "                        \"query\": query,\n",
    "                        \"fuzziness\": \"AUTO\"\n",
    "                    }\n",
    "                }\n",
    "            }\n",
    "        }\n",
    "        response = self.es.search(index=self.index_name, body=body)\n",
    "        return response[\"hits\"][\"hits\"]\n",
    "\n",
    "    def query(self, q, size=10):\n",
    "        response = self._fuzzy_search(q, size=size)\n",
    "        return [(i['_source']['index'], i['_source']['question']) for i in response]"
   ]
  },
  {
   "cell_type": "code",
   "execution_count": 107,
   "id": "79d17e5a-7c3f-4c29-a455-93dc005336f6",
   "metadata": {},
   "outputs": [
    {
     "data": {
      "text/plain": [
       "'question_base'"
      ]
     },
     "execution_count": 107,
     "metadata": {},
     "output_type": "execute_result"
    }
   ],
   "source": [
    "cand = CandidateModel(es)\n",
    "cand.create_index(index_name)"
   ]
  },
  {
   "cell_type": "code",
   "execution_count": 108,
   "id": "979cb27b-53e5-4d66-bed2-621ec9d18816",
   "metadata": {},
   "outputs": [
    {
     "data": {
      "text/plain": [
       "[('389998', 'Which are the best private mba colleges in India?'),\n",
       " ('202998', 'Which is the best private university for an MBA in India?'),\n",
       " ('430272', 'Which MBA is best after MCA?'),\n",
       " ('430273', 'Which is best MBA or MCA?'),\n",
       " ('495889', 'Which course is best bba + mba or Animation?'),\n",
       " ('202999', 'What are the best private universities to do MBA in India?'),\n",
       " ('278176', 'Which is the best distance MBA institute in India?'),\n",
       " ('20565', 'Which are the best reputed MBA colleges in India?'),\n",
       " ('91649', 'Which are the best weekend MBA programs in India?'),\n",
       " ('526392', 'Which are the best MBA colleges in India except IIMs?')]"
      ]
     },
     "execution_count": 108,
     "metadata": {},
     "output_type": "execute_result"
    }
   ],
   "source": [
    "cand.query('How to kiss', 10)"
   ]
  },
  {
   "cell_type": "code",
   "execution_count": null,
   "id": "86ff6ee8-1c7d-4ed4-8724-e0ea629e47ba",
   "metadata": {},
   "outputs": [],
   "source": [
    "def get_candidates(q):\n",
    "    body = {\n",
    "        \"size\": size,\n",
    "        \"query\": {\n",
    "            \"match\": {\n",
    "                \"question\": {\n",
    "                    \"query\": query,\n",
    "                    \"fuzziness\": \"AUTO\"\n",
    "                }\n",
    "            }\n",
    "        }\n",
    "    }\n",
    "    response = es.search(index=index_name, body=body)\n",
    "for id_left, id_right, label in tqdm(val_dataset.iter_rows(), total=len(val_dataset)):\n",
    "    elastic_answer = {i['_source']['index']: i['_score'] for i in fuzzy_search(idx_to_text_mapping[id_left], size=10000)}\n",
    "    ys_pred = np.array([elastic_answer[i] if i in elastic_answer else 0 for i in id_right])\n",
    "    ndcg.append(ndcg_k(np.array(label), ys_pred))"
   ]
  }
 ],
 "metadata": {
  "kernelspec": {
   "display_name": "Python 3 (ipykernel)",
   "language": "python",
   "name": "python3"
  },
  "language_info": {
   "codemirror_mode": {
    "name": "ipython",
    "version": 3
   },
   "file_extension": ".py",
   "mimetype": "text/x-python",
   "name": "python",
   "nbconvert_exporter": "python",
   "pygments_lexer": "ipython3",
   "version": "3.11.6"
  }
 },
 "nbformat": 4,
 "nbformat_minor": 5
}
