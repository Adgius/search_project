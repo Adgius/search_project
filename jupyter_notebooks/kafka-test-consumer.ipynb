{
 "cells": [
  {
   "cell_type": "code",
   "execution_count": null,
   "id": "57927f8f-0f6a-41d2-a1d0-cd85117090b5",
   "metadata": {},
   "outputs": [],
   "source": [
    "from kafka import KafkaConsumer\n",
    "from elasticsearch import Elasticsearch\n",
    "from elasticsearch.helpers import bulk\n",
    "\n",
    "import json\n",
    "import uuid\n",
    "\n",
    "es = Elasticsearch([\"http://localhost:9200\"])\n",
    "\n",
    "index_name = \"search_terms\"\n",
    "\n",
    "config = {\n",
    "    'bootstrap_servers': 'localhost:9092',\n",
    "    'group_id': 'query-handler',\n",
    "    'value_deserializer': json.loads,\n",
    "    'auto_offset_reset': 'latest'\n",
    "}\n",
    "\n",
    "consumer = KafkaConsumer(**config)\n",
    "\n",
    "for msg in consumer:\n",
    "    print(msg)"
   ]
  },
  {
   "cell_type": "code",
   "execution_count": null,
   "id": "ea5eccea-195d-43e6-b7d7-7d9baabeffa1",
   "metadata": {},
   "outputs": [],
   "source": []
  }
 ],
 "metadata": {
  "kernelspec": {
   "display_name": "Python 3 (ipykernel)",
   "language": "python",
   "name": "python3"
  },
  "language_info": {
   "codemirror_mode": {
    "name": "ipython",
    "version": 3
   },
   "file_extension": ".py",
   "mimetype": "text/x-python",
   "name": "python",
   "nbconvert_exporter": "python",
   "pygments_lexer": "ipython3",
   "version": "3.11.6"
  }
 },
 "nbformat": 4,
 "nbformat_minor": 5
}
