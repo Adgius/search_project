{
 "cells": [
  {
   "cell_type": "code",
   "execution_count": 2,
   "id": "0a151245-f140-4ea9-8c6e-bcd5c2e4421b",
   "metadata": {},
   "outputs": [],
   "source": [
    "from kafka import KafkaConsumer\n",
    "from tqdm import tqdm\n",
    "\n",
    "import json\n",
    "import uuid"
   ]
  },
  {
   "cell_type": "code",
   "execution_count": 4,
   "id": "f66bacf0-173b-4874-994f-6e5672cceebb",
   "metadata": {},
   "outputs": [],
   "source": [
    "kafka_consumer = KafkaConsumer(\n",
    "    'search_terms',\n",
    "    bootstrap_servers=['localhost:9092'],\n",
    "    value_deserializer=lambda v: json.loads(v.decode('utf-8')),\n",
    "    group_id=\"search_service_group\"\n",
    ")"
   ]
  },
  {
   "cell_type": "code",
   "execution_count": null,
   "id": "b1b13f9e-c863-427a-9c97-4a444976b2a6",
   "metadata": {},
   "outputs": [],
   "source": [
    "for message in kafka_consumer:\n",
    "    print(message)"
   ]
  },
  {
   "cell_type": "code",
   "execution_count": 7,
   "id": "4b244d09-4fad-4378-a06f-c97632a7cef6",
   "metadata": {},
   "outputs": [
    {
     "data": {
      "text/plain": [
       "'6c328e93-d66b-4dd9-8682-9dc47c71dd74'"
      ]
     },
     "execution_count": 7,
     "metadata": {},
     "output_type": "execute_result"
    }
   ],
   "source": [
    "message.value['index']"
   ]
  },
  {
   "cell_type": "code",
   "execution_count": 10,
   "id": "965497ba-c7ce-401b-b9d6-cc661e033c37",
   "metadata": {},
   "outputs": [
    {
     "data": {
      "text/plain": [
       "'How to learn english'"
      ]
     },
     "execution_count": 10,
     "metadata": {},
     "output_type": "execute_result"
    }
   ],
   "source": [
    "message.value['question']"
   ]
  }
 ],
 "metadata": {
  "kernelspec": {
   "display_name": "Python 3 (ipykernel)",
   "language": "python",
   "name": "python3"
  },
  "language_info": {
   "codemirror_mode": {
    "name": "ipython",
    "version": 3
   },
   "file_extension": ".py",
   "mimetype": "text/x-python",
   "name": "python",
   "nbconvert_exporter": "python",
   "pygments_lexer": "ipython3",
   "version": "3.11.6"
  }
 },
 "nbformat": 4,
 "nbformat_minor": 5
}
