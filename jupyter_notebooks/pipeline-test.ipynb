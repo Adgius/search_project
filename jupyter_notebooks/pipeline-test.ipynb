{
 "cells": [
  {
   "cell_type": "code",
   "execution_count": null,
   "id": "57927f8f-0f6a-41d2-a1d0-cd85117090b5",
   "metadata": {},
   "outputs": [],
   "source": [
    "from elasticsearch import Elasticsearch\n",
    "from elasticsearch.helpers import bulk\n",
    "\n",
    "import json\n",
    "import uuid\n",
    "\n",
    "es = Elasticsearch([\"http://localhost:9200\"])"
   ]
  },
  {
   "cell_type": "code",
   "execution_count": null,
   "id": "8a9e859b-d02b-4a69-93fb-1ab31101dabd",
   "metadata": {},
   "outputs": [],
   "source": [
    "import os\n",
    "import sys\n",
    "\n",
    "sys.path.insert(0, os.path.join(os.pardir, 'ml_service'))"
   ]
  },
  {
   "cell_type": "code",
   "execution_count": null,
   "id": "c96fee45-fcd5-4cdd-85ab-41aac4d63bfd",
   "metadata": {},
   "outputs": [],
   "source": [
    "artifacts_dir = os.path.join(os.getcwd(), os.pardir, os.pardir, 'additional_data')"
   ]
  },
  {
   "cell_type": "code",
   "execution_count": null,
   "id": "80b418d5-ba13-4983-b4b8-5c9f8b3871f8",
   "metadata": {},
   "outputs": [],
   "source": [
    "os.environ['EMB_PATH_GLOVE'] = os.path.join(artifacts_dir, 'glove.6B.50d.txt')\n",
    "os.environ['EMB_PATH_KNRM'] = os.path.join(artifacts_dir, 'embeddings.bin')\n",
    "os.environ['MLP_PATH'] = os.path.join(artifacts_dir, 'knrm_mlp.bin')\n",
    "os.environ['VOCAB_PATH'] = os.path.join(artifacts_dir, 'vocab.json')"
   ]
  },
  {
   "cell_type": "code",
   "execution_count": null,
   "id": "0c4317c8-6da7-4a89-9a85-5204263826c1",
   "metadata": {},
   "outputs": [],
   "source": [
    "from main import MLService\n",
    "from utils import RankingDataset, CandidateModel, collate_fn"
   ]
  },
  {
   "cell_type": "code",
   "execution_count": null,
   "id": "4b2ee364-6d57-4fd0-8abc-5a531608fe10",
   "metadata": {},
   "outputs": [],
   "source": [
    "import utils\n",
    "from importlib import reload\n",
    "reload(utils)"
   ]
  },
  {
   "cell_type": "code",
   "execution_count": null,
   "id": "39992a24-4457-4dd8-92c3-8838fcce1b28",
   "metadata": {},
   "outputs": [],
   "source": [
    "candidate_model = CandidateModel(es, 'question_base')"
   ]
  },
  {
   "cell_type": "code",
   "execution_count": null,
   "id": "8024aa14-471f-4761-8b28-945e454b7323",
   "metadata": {},
   "outputs": [],
   "source": [
    "q = 'How to learn to skate?'"
   ]
  },
  {
   "cell_type": "code",
   "execution_count": null,
   "id": "586ed1aa-d614-4d64-af4a-0a09815dcf4b",
   "metadata": {},
   "outputs": [],
   "source": [
    "ml_service = MLService()"
   ]
  },
  {
   "cell_type": "code",
   "execution_count": null,
   "id": "ce2a09f6-c348-4987-80ba-fd0fe063af41",
   "metadata": {},
   "outputs": [],
   "source": [
    "def pipeline(query):\n",
    "    candidates = candidate_model.query(query, size=20)\n",
    "    candidates = [i[1] for i in candidates]\n",
    "    ds = RankingDataset(query=query,\n",
    "                candidates=candidates,\n",
    "                vocab=ml_service.vocab,\n",
    "                oov_val=ml_service.vocab['OOV'],\n",
    "                preproc_func=ml_service.simple_preproc)\n",
    "    dl = torch.utils.data.DataLoader(\n",
    "        ds, \n",
    "        batch_size=ml_service.dataloader_bs, \n",
    "        num_workers=0,\n",
    "        collate_fn=collate_fn, \n",
    "        shuffle=False)\n",
    "    \n",
    "    score = ml_service.predict(dl)\n",
    "    return np.array(candidates)[np.argsort(score)]"
   ]
  },
  {
   "cell_type": "code",
   "execution_count": null,
   "id": "89e91ef3-3a9d-4fba-b813-8c6121de150c",
   "metadata": {},
   "outputs": [],
   "source": [
    "pipeline('How to learm python?')"
   ]
  },
  {
   "cell_type": "code",
   "execution_count": null,
   "id": "4e9590aa-fcd2-4f2d-bc31-85b71e15a1ed",
   "metadata": {},
   "outputs": [],
   "source": [
    "import redis\n",
    "\n",
    "redis = redis.from_url(\"redis://localhost:6379\")"
   ]
  },
  {
   "cell_type": "code",
   "execution_count": null,
   "id": "1ed53dd3-cb15-4301-a700-bd2c70f7e272",
   "metadata": {},
   "outputs": [],
   "source": [
    "test_result = {'result': pipeline('How to learm python?').tolist()}"
   ]
  },
  {
   "cell_type": "code",
   "execution_count": null,
   "id": "cd04ddb0-60cb-4b2a-a7b3-33d9e248c62f",
   "metadata": {},
   "outputs": [],
   "source": [
    "result_data = json.dumps(test_result)"
   ]
  },
  {
   "cell_type": "code",
   "execution_count": null,
   "id": "b247165b-6852-4733-ba99-23fa578d7946",
   "metadata": {},
   "outputs": [],
   "source": [
    "redis.set(request_id, result_data, ex=300)"
   ]
  }
 ],
 "metadata": {
  "kernelspec": {
   "display_name": "Python 3 (ipykernel)",
   "language": "python",
   "name": "python3"
  },
  "language_info": {
   "codemirror_mode": {
    "name": "ipython",
    "version": 3
   },
   "file_extension": ".py",
   "mimetype": "text/x-python",
   "name": "python",
   "nbconvert_exporter": "python",
   "pygments_lexer": "ipython3",
   "version": "3.11.6"
  }
 },
 "nbformat": 4,
 "nbformat_minor": 5
}
