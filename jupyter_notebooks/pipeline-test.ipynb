{
 "cells": [
  {
   "cell_type": "code",
   "execution_count": 1,
   "id": "57927f8f-0f6a-41d2-a1d0-cd85117090b5",
   "metadata": {},
   "outputs": [],
   "source": [
    "from elasticsearch import Elasticsearch\n",
    "from elasticsearch.helpers import bulk\n",
    "\n",
    "import json\n",
    "import uuid\n",
    "\n",
    "es = Elasticsearch([\"http://localhost:9200\"])"
   ]
  },
  {
   "cell_type": "code",
   "execution_count": 2,
   "id": "8a9e859b-d02b-4a69-93fb-1ab31101dabd",
   "metadata": {},
   "outputs": [],
   "source": [
    "import os\n",
    "import sys\n",
    "\n",
    "sys.path.insert(0, os.path.join(os.pardir, 'ml_service'))"
   ]
  },
  {
   "cell_type": "code",
   "execution_count": 3,
   "id": "c96fee45-fcd5-4cdd-85ab-41aac4d63bfd",
   "metadata": {},
   "outputs": [],
   "source": [
    "artifacts_dir = os.path.join(os.getcwd(), os.pardir, os.pardir, 'additional_data')"
   ]
  },
  {
   "cell_type": "code",
   "execution_count": 4,
   "id": "80b418d5-ba13-4983-b4b8-5c9f8b3871f8",
   "metadata": {},
   "outputs": [],
   "source": [
    "os.environ['EMB_PATH_GLOVE'] = os.path.join(artifacts_dir, 'glove.6B.50d.txt')\n",
    "os.environ['EMB_PATH_KNRM'] = os.path.join(artifacts_dir, 'embeddings.bin')\n",
    "os.environ['MLP_PATH'] = os.path.join(artifacts_dir, 'knrm_mlp.bin')\n",
    "os.environ['VOCAB_PATH'] = os.path.join(artifacts_dir, 'vocab.json')"
   ]
  },
  {
   "cell_type": "code",
   "execution_count": 6,
   "id": "0c4317c8-6da7-4a89-9a85-5204263826c1",
   "metadata": {},
   "outputs": [],
   "source": [
    "from main import MLService\n",
    "from model import RankingDataset, collate_fn"
   ]
  },
  {
   "cell_type": "code",
   "execution_count": 16,
   "id": "ea5eccea-195d-43e6-b7d7-7d9baabeffa1",
   "metadata": {},
   "outputs": [],
   "source": [
    "class CandidateModel:\n",
    "    def __init__(self, es, index_name):\n",
    "        self.es = es\n",
    "        self.index_name = index_name\n",
    "\n",
    "    def _fuzzy_search(self, query, size):\n",
    "        body = {\n",
    "            \"size\": size,\n",
    "            \"query\": {\n",
    "                \"match\": {\n",
    "                    \"question\": {\n",
    "                        \"query\": query,\n",
    "                        \"fuzziness\": \"AUTO\"\n",
    "                    }\n",
    "                }\n",
    "            }\n",
    "        }\n",
    "        response = self.es.search(index=self.index_name, body=body)\n",
    "        return response[\"hits\"][\"hits\"]\n",
    "\n",
    "    def query(self, q, size=10):\n",
    "        response = self._fuzzy_search(q, size=size)\n",
    "        return [(i['_source']['index'], i['_source']['question']) for i in response]"
   ]
  },
  {
   "cell_type": "code",
   "execution_count": 17,
   "id": "39992a24-4457-4dd8-92c3-8838fcce1b28",
   "metadata": {},
   "outputs": [],
   "source": [
    "candidate_model = CandidateModel(es, 'question_base')"
   ]
  },
  {
   "cell_type": "code",
   "execution_count": 21,
   "id": "8024aa14-471f-4761-8b28-945e454b7323",
   "metadata": {},
   "outputs": [],
   "source": [
    "q = 'How to learn to skate?'"
   ]
  },
  {
   "cell_type": "code",
   "execution_count": 20,
   "id": "4cf5ebc5-9642-48ca-8258-92b273ea3eb3",
   "metadata": {},
   "outputs": [],
   "source": [
    "from typing import Dict, List, Tuple, Callable\n",
    "\n",
    "import numpy as np\n",
    "import torch\n",
    "\n",
    "class RankingDataset(torch.utils.data.Dataset):\n",
    "    def __init__(self, query: str, candidates: List,\n",
    "                 vocab: Dict[str, int], oov_val: int,\n",
    "                 preproc_func: Callable, max_len: int = 30):\n",
    "        self.query = query\n",
    "        self.candidates = {n: k for n, k in enumerate(candidates)}\n",
    "        self.vocab = vocab\n",
    "        self.oov_val = oov_val\n",
    "        self.preproc_func = preproc_func\n",
    "        self.max_len = max_len\n",
    "\n",
    "    def __len__(self):\n",
    "        return len(candidates)\n",
    "\n",
    "    def _tokenized_text_to_index(self, tokenized_text: List[str]) -> List[int]:\n",
    "        res = [self.vocab.get(i, self.oov_val) for i in tokenized_text]\n",
    "        return res\n",
    "\n",
    "    def _convert_text_to_token_idxs(self, text: str) -> List[int]:\n",
    "        tokenized_text = self.preproc_func(text)\n",
    "        idxs = self._tokenized_text_to_index(tokenized_text)\n",
    "        return idxs\n",
    "\n",
    "    def __getitem__(self, idx: int):\n",
    "        doc_label = self.candidates[idx]\n",
    "        left_elem = {}\n",
    "        left_elem['query'] = self._convert_text_to_token_idxs(self.query)\n",
    "        left_elem['document'] = self._convert_text_to_token_idxs(self.candidates[idx])\n",
    "        return left_elem"
   ]
  },
  {
   "cell_type": "code",
   "execution_count": 22,
   "id": "586ed1aa-d614-4d64-af4a-0a09815dcf4b",
   "metadata": {},
   "outputs": [
    {
     "name": "stderr",
     "output_type": "stream",
     "text": [
      "C:\\Users\\maxim\\Downloads\\Новая папка\\project\\jupyter_notebooks\\..\\ml_service\\model.py:96: FutureWarning: You are using `torch.load` with `weights_only=False` (the current default value), which uses the default pickle module implicitly. It is possible to construct malicious pickle data which will execute arbitrary code during unpickling (See https://github.com/pytorch/pytorch/blob/main/SECURITY.md#untrusted-models for more details). In a future release, the default value for `weights_only` will be flipped to `True`. This limits the functions that could be executed during unpickling. Arbitrary objects will no longer be allowed to be loaded via this mode unless they are explicitly allowlisted by the user via `torch.serialization.add_safe_globals`. We recommend you start setting `weights_only=True` for any use case where you don't have full control of the loaded file. Please open an issue on GitHub for any issues related to this experimental feature.\n",
      "  embedding_matrix = torch.load(emb_path)\n",
      "C:\\Users\\maxim\\Downloads\\Новая папка\\project\\jupyter_notebooks\\..\\ml_service\\model.py:102: FutureWarning: You are using `torch.load` with `weights_only=False` (the current default value), which uses the default pickle module implicitly. It is possible to construct malicious pickle data which will execute arbitrary code during unpickling (See https://github.com/pytorch/pytorch/blob/main/SECURITY.md#untrusted-models for more details). In a future release, the default value for `weights_only` will be flipped to `True`. This limits the functions that could be executed during unpickling. Arbitrary objects will no longer be allowed to be loaded via this mode unless they are explicitly allowlisted by the user via `torch.serialization.add_safe_globals`. We recommend you start setting `weights_only=True` for any use case where you don't have full control of the loaded file. Please open an issue on GitHub for any issues related to this experimental feature.\n",
      "  self.mlp.load_state_dict(torch.load(mlp_path))\n"
     ]
    }
   ],
   "source": [
    "ml_service = MLService()"
   ]
  },
  {
   "cell_type": "code",
   "execution_count": 46,
   "id": "e98acdde-8b07-45ed-93fe-7aefa04360f1",
   "metadata": {},
   "outputs": [
    {
     "name": "stderr",
     "output_type": "stream",
     "text": [
      "INFO:elastic_transport.transport:POST http://localhost:9200/question_base/_search [status:200 duration:0.065s]\n"
     ]
    }
   ],
   "source": [
    "candidates = candidate_model.query(q, size=20)\n",
    "candidates = [i[1] for i in candidates]"
   ]
  },
  {
   "cell_type": "code",
   "execution_count": 47,
   "id": "094f49e2-e471-40f9-873b-01474d415ad0",
   "metadata": {},
   "outputs": [
    {
     "data": {
      "text/plain": [
       "[('408483',\n",
       "  'Is it easier to learn to skate on figure skates or hockey skates?'),\n",
       " ('178676', 'How long does it take to learn to ice skate?'),\n",
       " ('355016', 'What are some tips to learn how to skate backwards?'),\n",
       " ('232101', 'Do kids ever learn to ice skate before they learn to walk?'),\n",
       " ('49378', 'How do you ice skate?'),\n",
       " ('60127', 'I have learnt kathak so should I also learn contemporary now?'),\n",
       " ('93189', 'How does one learn to learn?'),\n",
       " ('75243', 'How can an individual learn how to learn?'),\n",
       " ('499175', 'Learn how to code or learn how to sell?'),\n",
       " ('148509', \"How did Richard Muller 'learn to learn'?\"),\n",
       " ('148508', '\"How did Richard Muller \"\" Learn to learn\"\"?\"'),\n",
       " ('242524', 'How does a person learn to learn?'),\n",
       " ('355215', 'How children learn?'),\n",
       " ('30999', 'How do you play Skate 3 on PC?'),\n",
       " ('347786', 'How do I learn to learn the confident trait?'),\n",
       " ('41481', 'How do learn Telepathy?'),\n",
       " ('137596', 'How do people learn?'),\n",
       " ('237079', 'How to learn piano?'),\n",
       " ('14720', 'How to learn coding?'),\n",
       " ('7918', 'How can learn English?')]"
      ]
     },
     "execution_count": 47,
     "metadata": {},
     "output_type": "execute_result"
    }
   ],
   "source": [
    "candidates"
   ]
  },
  {
   "cell_type": "code",
   "execution_count": 28,
   "id": "14784fe1-ff5d-4e11-b1ea-7ebfba5fec9d",
   "metadata": {},
   "outputs": [],
   "source": [
    "ds = RankingDataset(query=q,\n",
    "                candidates=candidates,\n",
    "                vocab=ml_service.vocab,\n",
    "                oov_val=ml_service.vocab['OOV'],\n",
    "                preproc_func=ml_service.simple_preproc)"
   ]
  },
  {
   "cell_type": "code",
   "execution_count": 32,
   "id": "297d6a11-ef73-42ae-ae99-894c8a4ba886",
   "metadata": {},
   "outputs": [],
   "source": [
    "dl = torch.utils.data.DataLoader(\n",
    "    ds, \n",
    "    batch_size=ml_service.dataloader_bs, \n",
    "    num_workers=0,\n",
    "    collate_fn=collate_fn, \n",
    "    shuffle=False)\n",
    "\n",
    "score = ml_service.predict(dl)"
   ]
  },
  {
   "cell_type": "code",
   "execution_count": 42,
   "id": "ce2a09f6-c348-4987-80ba-fd0fe063af41",
   "metadata": {},
   "outputs": [],
   "source": [
    "def pipeline(query):\n",
    "    candidates = candidate_model.query(query, size=20)\n",
    "    candidates = [i[1] for i in candidates]\n",
    "    ds = RankingDataset(query=query,\n",
    "                candidates=candidates,\n",
    "                vocab=ml_service.vocab,\n",
    "                oov_val=ml_service.vocab['OOV'],\n",
    "                preproc_func=ml_service.simple_preproc)\n",
    "    dl = torch.utils.data.DataLoader(\n",
    "        ds, \n",
    "        batch_size=ml_service.dataloader_bs, \n",
    "        num_workers=0,\n",
    "        collate_fn=collate_fn, \n",
    "        shuffle=False)\n",
    "    \n",
    "    score = ml_service.predict(dl)\n",
    "    return np.array(candidates)[np.argsort(score)]"
   ]
  },
  {
   "cell_type": "code",
   "execution_count": 45,
   "id": "89e91ef3-3a9d-4fba-b813-8c6121de150c",
   "metadata": {},
   "outputs": [
    {
     "name": "stderr",
     "output_type": "stream",
     "text": [
      "INFO:elastic_transport.transport:POST http://localhost:9200/question_base/_search [status:200 duration:0.028s]\n"
     ]
    },
    {
     "data": {
      "text/plain": [
       "array(['Should I learn Python?', 'Learn Python?',\n",
       "       'What is the Python conda root on iPython?',\n",
       "       'What is better to learn first python2x or Python 3x?',\n",
       "       'How do I learn Python for scripting?',\n",
       "       'How do I learn Python at home?',\n",
       "       'Python (programming language): How can I learn Python quickly and efficiently?',\n",
       "       'How do I learn Python in depth?',\n",
       "       'How can you learn Python algorithms?',\n",
       "       'How can I learn advanced Python?',\n",
       "       'How can I learn python online?', 'How do I learn python online?',\n",
       "       'How do I learn Python?', 'How do I learn Python?',\n",
       "       'How do I learn python?', 'How do I learn Python systematically?',\n",
       "       'How can I learn phython?', 'How important is it to learn Python?',\n",
       "       'How easy is it to learn Python?',\n",
       "       'How difficult is it to learn Python?'], dtype='<U78')"
      ]
     },
     "execution_count": 45,
     "metadata": {},
     "output_type": "execute_result"
    }
   ],
   "source": [
    "pipeline('How to learm python?')"
   ]
  },
  {
   "cell_type": "code",
   "execution_count": null,
   "id": "4e9590aa-fcd2-4f2d-bc31-85b71e15a1ed",
   "metadata": {},
   "outputs": [],
   "source": []
  }
 ],
 "metadata": {
  "kernelspec": {
   "display_name": "Python 3 (ipykernel)",
   "language": "python",
   "name": "python3"
  },
  "language_info": {
   "codemirror_mode": {
    "name": "ipython",
    "version": 3
   },
   "file_extension": ".py",
   "mimetype": "text/x-python",
   "name": "python",
   "nbconvert_exporter": "python",
   "pygments_lexer": "ipython3",
   "version": "3.11.6"
  }
 },
 "nbformat": 4,
 "nbformat_minor": 5
}
